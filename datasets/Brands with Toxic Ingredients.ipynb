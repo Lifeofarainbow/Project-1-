{
 "cells": [
  {
   "cell_type": "code",
   "execution_count": 2,
   "id": "94711ef0",
   "metadata": {},
   "outputs": [],
   "source": [
    "import matplotlib.pyplot as plt\n",
    "import pandas as pd\n",
    "import scipy.stats as st\n",
    "from pathlib import Path\n",
    "from functools import reduce"
   ]
  },
  {
   "cell_type": "code",
   "execution_count": 3,
   "id": "dc4ae25e",
   "metadata": {},
   "outputs": [],
   "source": [
    "chemical_csv = Path(\"..\",\"datasets\", \"cscpopendata.csv\")\n",
    "product_csv = Path(\"..\",\"datasets\", \"product_info.csv\")\n",
    "chemical_df = pd.read_csv(chemical_csv)\n",
    "product_df = pd.read_csv(product_csv)"
   ]
  },
  {
   "cell_type": "code",
   "execution_count": 4,
   "id": "d4aaabba",
   "metadata": {},
   "outputs": [
    {
     "data": {
      "text/html": [
       "<div>\n",
       "<style scoped>\n",
       "    .dataframe tbody tr th:only-of-type {\n",
       "        vertical-align: middle;\n",
       "    }\n",
       "\n",
       "    .dataframe tbody tr th {\n",
       "        vertical-align: top;\n",
       "    }\n",
       "\n",
       "    .dataframe thead th {\n",
       "        text-align: right;\n",
       "    }\n",
       "</style>\n",
       "<table border=\"1\" class=\"dataframe\">\n",
       "  <thead>\n",
       "    <tr style=\"text-align: right;\">\n",
       "      <th></th>\n",
       "      <th>BrandName</th>\n",
       "    </tr>\n",
       "  </thead>\n",
       "  <tbody>\n",
       "    <tr>\n",
       "      <th>0</th>\n",
       "      <td>AVON</td>\n",
       "    </tr>\n",
       "    <tr>\n",
       "      <th>1</th>\n",
       "      <td>Glover's</td>\n",
       "    </tr>\n",
       "    <tr>\n",
       "      <th>2</th>\n",
       "      <td>Glover's</td>\n",
       "    </tr>\n",
       "    <tr>\n",
       "      <th>3</th>\n",
       "      <td>AVON</td>\n",
       "    </tr>\n",
       "    <tr>\n",
       "      <th>4</th>\n",
       "      <td>AVON</td>\n",
       "    </tr>\n",
       "    <tr>\n",
       "      <th>...</th>\n",
       "      <td>...</td>\n",
       "    </tr>\n",
       "    <tr>\n",
       "      <th>114630</th>\n",
       "      <td>YANBAL</td>\n",
       "    </tr>\n",
       "    <tr>\n",
       "      <th>114631</th>\n",
       "      <td>YANBAL</td>\n",
       "    </tr>\n",
       "    <tr>\n",
       "      <th>114632</th>\n",
       "      <td>YANBAL</td>\n",
       "    </tr>\n",
       "    <tr>\n",
       "      <th>114633</th>\n",
       "      <td>YANBAL</td>\n",
       "    </tr>\n",
       "    <tr>\n",
       "      <th>114634</th>\n",
       "      <td>Old Spice</td>\n",
       "    </tr>\n",
       "  </tbody>\n",
       "</table>\n",
       "<p>114635 rows × 1 columns</p>\n",
       "</div>"
      ],
      "text/plain": [
       "        BrandName\n",
       "0            AVON\n",
       "1        Glover's\n",
       "2        Glover's\n",
       "3            AVON\n",
       "4            AVON\n",
       "...           ...\n",
       "114630     YANBAL\n",
       "114631     YANBAL\n",
       "114632     YANBAL\n",
       "114633     YANBAL\n",
       "114634  Old Spice\n",
       "\n",
       "[114635 rows x 1 columns]"
      ]
     },
     "execution_count": 4,
     "metadata": {},
     "output_type": "execute_result"
    }
   ],
   "source": [
    "chemical_list = chemical_df[['BrandName']]\n",
    "chemical_list"
   ]
  },
  {
   "cell_type": "code",
   "execution_count": 5,
   "id": "de484e70",
   "metadata": {},
   "outputs": [
    {
     "data": {
      "text/plain": [
       "array(['AVON', \"Glover's\", 'OPI', ..., 'sulwhasoo ', 'HAIR FOOD',\n",
       "       'YANBAL'], dtype=object)"
      ]
     },
     "execution_count": 5,
     "metadata": {},
     "output_type": "execute_result"
    }
   ],
   "source": [
    "brand_unique = chemical_list['BrandName'].unique()\n",
    "brand_unique"
   ]
  },
  {
   "cell_type": "code",
   "execution_count": 6,
   "id": "4fa66459",
   "metadata": {},
   "outputs": [
    {
     "data": {
      "text/plain": [
       "2714"
      ]
     },
     "execution_count": 6,
     "metadata": {},
     "output_type": "execute_result"
    }
   ],
   "source": [
    "brand_count = chemical_list['BrandName'].nunique()\n",
    "brand_count"
   ]
  },
  {
   "cell_type": "code",
   "execution_count": 7,
   "id": "4dc91f03",
   "metadata": {},
   "outputs": [
    {
     "data": {
      "text/plain": [
       "array(['Titanium dioxide', 'Distillates (coal tar)', 'Estragole',\n",
       "       'Cocamide diethanolamine', 'Toluene',\n",
       "       'Chromium (hexavalent compounds)', 'Retinol',\n",
       "       'Retinol/retinyl esters, when in daily dosages in excess of 10,000 IU, or 3,000 retinol equivalents.',\n",
       "       'Vitamin A', 'Vitamin A palmitate', 'Butylated hydroxyanisole',\n",
       "       'Coffea arabica extract', 'Lauramide diethanolamine', 'Coffee',\n",
       "       'Silica, crystalline (airborne particles of respirable size)',\n",
       "       'Carbon black (airborne, unbound particles of respirable size)',\n",
       "       'Carbon black', 'Genistein (purified)', 'Progesterone',\n",
       "       '2,4-Hexadienal (89% trans, trans isomer; 11% cis, trans isomer)',\n",
       "       'Methyleugenol', 'Carbon-black extracts', 'Retinyl palmitate',\n",
       "       'o-Phenylphenol', 'Acrylamide', 'Formaldehyde (gas)',\n",
       "       'Ginkgo biloba extract', 'Mica', 'Ethylene glycol',\n",
       "       'Acetic acid, retinyl ester', 'Ethyl acrylate', 'Trade Secret',\n",
       "       'Methanol', 'Mineral oils, untreated and mildly treated',\n",
       "       'Diethanolamine', 'TEA-Lauryl Sulfate', 'Retinyl acetate',\n",
       "       'Lead acetate', 'Talc', 'Triethanolamine',\n",
       "       'o-Phenylenediamine and its salts', 'Safrole', 'Styrene',\n",
       "       'Acetaldehyde', 'Cocamide DEA', '1,4-Dioxane',\n",
       "       'Arsenic (inorganic arsenic compounds)', 'Dichloroacetic acid',\n",
       "       'Ethylene oxide', 'Lead', 'Dichloromethane (Methylene chloride)',\n",
       "       'Benzene', 'Benzyl chloride', 'N-Nitrosodimethylamine',\n",
       "       'Propylene oxide', 'Methyl chloride',\n",
       "       'Cadmium and cadmium compounds', 'N-Methylpyrrolidone',\n",
       "       'Di-n-butyl phthalate (DBP)', 'Coal tars',\n",
       "       'All-trans retinoic acid', 'Quinoline and its strong acid salts',\n",
       "       'Methylene glycol', 'Benzophenone', 'Cocamide', 'Lauramide DEA',\n",
       "       'Aloe vera, whole leaf extract', 'Musk xylene', 'Aspirin',\n",
       "       'Coal Tar', 'Benzophenone-3', 'Quartz',\n",
       "       'Talc containing asbestiform fibers', 'Sodium Bromate',\n",
       "       'Phenacetin', 'Arsenic (inorganic oxides)',\n",
       "       'Mercury and mercury compounds', 'p-Aminodiphenylamine',\n",
       "       'Permethrin', 'Acetylsalicylic acid', 'Coal tar extract',\n",
       "       'Selenium sulfide', 'Oil Orange SS', 'Spironolactone',\n",
       "       'Nickel (Metallic)', 'Caffeic acid', 'Cocamide MEA',\n",
       "       'Cosmetic talc', 'C.I. Acid Red 114', 'Caffeine', 'Benzophenone-4',\n",
       "       'Ethanol in alcoholic beverages', 'Formaldehyde',\n",
       "       'Cocamide diethanolamine (DEA)', 'Coffee extract',\n",
       "       'Retinol palmitate', 'Coffee bean extract',\n",
       "       'Propylene glycol mono-t-butyl ether', 'Avobenzone',\n",
       "       'Coal tar solution', 'Pulegone',\n",
       "       'Titanium dioxide (airborne, unbound particles of respirable size)',\n",
       "       'beta-Myrcene', 'Talc (powder)',\n",
       "       '2,2-Bis(bromomethyl)-1,3-propanediol', 'Benzo[a]pyrene',\n",
       "       'Benz[a]anthracene', 'Extract of coffee bean',\n",
       "       'Goldenseal root powder',\n",
       "       'Isopropyl alcohol manufacture using strong acids',\n",
       "       '2-Propyleneacrolein', 'N,N-Dimethyl-p-toluidine',\n",
       "       'Formaldehyde solution', 'N-Nitrosodiethanolamine',\n",
       "       'Benzophenone-2', 'Vinyl acetate', 'Trichloroacetic acid',\n",
       "       'Phenacemide', 'Aloe vera, non-decolorized whole leaf extract',\n",
       "       'Polygeenan', 'Diethanolamides of the fatty acids of coconut oil',\n",
       "       'Bisphenol A (BPA)', 'Hydrous magnesium silicate'], dtype=object)"
      ]
     },
     "execution_count": 7,
     "metadata": {},
     "output_type": "execute_result"
    }
   ],
   "source": [
    "chemical_names = chemical_df[\"ChemicalName\"].unique()\n",
    "chemical_names"
   ]
  },
  {
   "cell_type": "code",
   "execution_count": 8,
   "id": "3eb4d7e0",
   "metadata": {},
   "outputs": [
    {
     "data": {
      "text/html": [
       "<div>\n",
       "<style scoped>\n",
       "    .dataframe tbody tr th:only-of-type {\n",
       "        vertical-align: middle;\n",
       "    }\n",
       "\n",
       "    .dataframe tbody tr th {\n",
       "        vertical-align: top;\n",
       "    }\n",
       "\n",
       "    .dataframe thead th {\n",
       "        text-align: right;\n",
       "    }\n",
       "</style>\n",
       "<table border=\"1\" class=\"dataframe\">\n",
       "  <thead>\n",
       "    <tr style=\"text-align: right;\">\n",
       "      <th></th>\n",
       "      <th>BrandName</th>\n",
       "    </tr>\n",
       "  </thead>\n",
       "  <tbody>\n",
       "    <tr>\n",
       "      <th>0</th>\n",
       "      <td>AVON</td>\n",
       "    </tr>\n",
       "    <tr>\n",
       "      <th>1</th>\n",
       "      <td>Glover's</td>\n",
       "    </tr>\n",
       "    <tr>\n",
       "      <th>2</th>\n",
       "      <td>Glover's</td>\n",
       "    </tr>\n",
       "    <tr>\n",
       "      <th>3</th>\n",
       "      <td>AVON</td>\n",
       "    </tr>\n",
       "    <tr>\n",
       "      <th>4</th>\n",
       "      <td>AVON</td>\n",
       "    </tr>\n",
       "    <tr>\n",
       "      <th>...</th>\n",
       "      <td>...</td>\n",
       "    </tr>\n",
       "    <tr>\n",
       "      <th>114630</th>\n",
       "      <td>YANBAL</td>\n",
       "    </tr>\n",
       "    <tr>\n",
       "      <th>114631</th>\n",
       "      <td>YANBAL</td>\n",
       "    </tr>\n",
       "    <tr>\n",
       "      <th>114632</th>\n",
       "      <td>YANBAL</td>\n",
       "    </tr>\n",
       "    <tr>\n",
       "      <th>114633</th>\n",
       "      <td>YANBAL</td>\n",
       "    </tr>\n",
       "    <tr>\n",
       "      <th>114634</th>\n",
       "      <td>Old Spice</td>\n",
       "    </tr>\n",
       "  </tbody>\n",
       "</table>\n",
       "<p>114419 rows × 1 columns</p>\n",
       "</div>"
      ],
      "text/plain": [
       "        BrandName\n",
       "0            AVON\n",
       "1        Glover's\n",
       "2        Glover's\n",
       "3            AVON\n",
       "4            AVON\n",
       "...           ...\n",
       "114630     YANBAL\n",
       "114631     YANBAL\n",
       "114632     YANBAL\n",
       "114633     YANBAL\n",
       "114634  Old Spice\n",
       "\n",
       "[114419 rows x 1 columns]"
      ]
     },
     "execution_count": 8,
     "metadata": {},
     "output_type": "execute_result"
    }
   ],
   "source": [
    "chemicalclean_list = chemical_list.dropna(axis = 0)\n",
    "chemicalclean_list"
   ]
  },
  {
   "cell_type": "code",
   "execution_count": 9,
   "id": "645d9552",
   "metadata": {},
   "outputs": [
    {
     "data": {
      "text/html": [
       "<div>\n",
       "<style scoped>\n",
       "    .dataframe tbody tr th:only-of-type {\n",
       "        vertical-align: middle;\n",
       "    }\n",
       "\n",
       "    .dataframe tbody tr th {\n",
       "        vertical-align: top;\n",
       "    }\n",
       "\n",
       "    .dataframe thead th {\n",
       "        text-align: right;\n",
       "    }\n",
       "</style>\n",
       "<table border=\"1\" class=\"dataframe\">\n",
       "  <thead>\n",
       "    <tr style=\"text-align: right;\">\n",
       "      <th></th>\n",
       "      <th>BrandName</th>\n",
       "      <th>counts</th>\n",
       "    </tr>\n",
       "  </thead>\n",
       "  <tbody>\n",
       "    <tr>\n",
       "      <th>0</th>\n",
       "      <td>SEPHORA</td>\n",
       "      <td>3394</td>\n",
       "    </tr>\n",
       "    <tr>\n",
       "      <th>1</th>\n",
       "      <td>NYX</td>\n",
       "      <td>3227</td>\n",
       "    </tr>\n",
       "    <tr>\n",
       "      <th>2</th>\n",
       "      <td>bareMinerals</td>\n",
       "      <td>3158</td>\n",
       "    </tr>\n",
       "    <tr>\n",
       "      <th>3</th>\n",
       "      <td>Charlotte Tilbury</td>\n",
       "      <td>2453</td>\n",
       "    </tr>\n",
       "    <tr>\n",
       "      <th>4</th>\n",
       "      <td>Revlon</td>\n",
       "      <td>2335</td>\n",
       "    </tr>\n",
       "  </tbody>\n",
       "</table>\n",
       "</div>"
      ],
      "text/plain": [
       "           BrandName  counts\n",
       "0            SEPHORA    3394\n",
       "1                NYX    3227\n",
       "2       bareMinerals    3158\n",
       "3  Charlotte Tilbury    2453\n",
       "4             Revlon    2335"
      ]
     },
     "execution_count": 9,
     "metadata": {},
     "output_type": "execute_result"
    }
   ],
   "source": [
    "brandscount = chemicalclean_list.value_counts().nlargest(n=5)\n",
    "brandcount = brandscount.reset_index(name='counts')\n",
    "brandcount.head()"
   ]
  },
  {
   "cell_type": "code",
   "execution_count": 27,
   "id": "c4b2bf9e",
   "metadata": {},
   "outputs": [
    {
     "data": {
      "image/png": "[encoded data removed]",
      "text/plain": [
       "<Figure size 640x480 with 1 Axes>"
      ]
     },
     "metadata": {},
     "output_type": "display_data"
    }
   ],
   "source": [
    "#bar \n",
    "plt.bar(brandcount['BrandName'], brandcount['counts'], color ='teal',\n",
    "        width = 0.4)\n",
    "plt.xticks(ha='right', fontsize=8) \n",
    "plt.xlabel(\"Brand Name\")\n",
    "plt.ylabel(\"Count of Products\")\n",
    "plt.title(\"Top 5 Brands with the Most Products\")\n",
    "plt.savefig(\"../top5brands.png\")\n",
    "plt.show()"
   ]
  },
  {
   "cell_type": "code",
   "execution_count": 29,
   "id": "a1dc6f11",
   "metadata": {},
   "outputs": [
    {
     "data": {
      "image/png": "[encoded data removed]",
      "text/plain": [
       "<Figure size 640x480 with 1 Axes>"
      ]
     },
     "metadata": {},
     "output_type": "display_data"
    }
   ],
   "source": [
    "#pie chart\n",
    "colors = ['#FF99CC', '#FFCC99', '#CC99FF', '#99CCFF', '#FFFFCC']\n",
    "brandpie = brandcount['BrandName'], brandcount['counts'].plot(title= \"Top 5 Brands with the Most Toxic Ingredients\",\n",
    "    kind='pie', labels= ['Sephora', 'NYX', 'BareMinerals', 'Charlotte Tilbury', 'Revlon'], autopct='%1.0f%%', colors=colors)\n",
    "plt.savefig(\"../top5brands.png\")"
   ]
  },
  {
   "cell_type": "code",
   "execution_count": null,
   "id": "426c1cea",
   "metadata": {},
   "outputs": [],
   "source": []
  }
 ],
 "metadata": {
  "kernelspec": {
   "display_name": "Python 3 (ipykernel)",
   "language": "python",
   "name": "python3"
  },
  "language_info": {
   "codemirror_mode": {
    "name": "ipython",
    "version": 3
   },
   "file_extension": ".py",
   "mimetype": "text/x-python",
   "name": "python",
   "nbconvert_exporter": "python",
   "pygments_lexer": "ipython3",
   "version": "3.10.11"
  }
 },
 "nbformat": 4,
 "nbformat_minor": 5
}
