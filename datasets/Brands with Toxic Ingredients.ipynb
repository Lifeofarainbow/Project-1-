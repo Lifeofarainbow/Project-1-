{
 "cells": [
  {
   "cell_type": "code",
   "execution_count": null,
   "id": "a9ad2c66",
   "metadata": {},
   "outputs": [],
   "source": [
    "import pandas as pd\n",
    "from pathlib import Path\n",
    "\n",
    "specificlist = pd.read_csv('Small_list.csv')\n",
    "General_list = pd.read_csv('Bigger_list.csv')\n",
    "small_list = small_list.add_prefix('1_')\n",
    "BigList = General_list.add_prefix('2_')\n",
    "\n",
    "\n",
    "def compare_files(df):\n",
    "    if df['1_Name'] == df['2_Name']:\n",
    "        if df['2_Pet'] == 'Yes': \n",
    "            return 1\n",
    "        else:\n",
    "            return 0"
   ]
  }
 ],
 "metadata": {
  "kernelspec": {
   "display_name": "Python 3 (ipykernel)",
   "language": "python",
   "name": "python3"
  },
  "language_info": {
   "codemirror_mode": {
    "name": "ipython",
    "version": 3
   },
   "file_extension": ".py",
   "mimetype": "text/x-python",
   "name": "python",
   "nbconvert_exporter": "python",
   "pygments_lexer": "ipython3",
   "version": "3.10.11"
  }
 },
 "nbformat": 4,
 "nbformat_minor": 5
}
