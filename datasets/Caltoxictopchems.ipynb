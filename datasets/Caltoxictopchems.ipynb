{
 "cells": [
  {
   "cell_type": "code",
   "execution_count": 47,
   "id": "c7f6f79e",
   "metadata": {},
   "outputs": [],
   "source": [
    "# Set-Up Imports\n",
    "import matplotlib.pyplot as plt\n",
    "import pandas as pd\n",
    "import scipy.stats as st\n",
    "from pathlib import Path\n",
    "from functools import reduce"
   ]
  },
  {
   "cell_type": "code",
   "execution_count": 48,
   "id": "de7077b1",
   "metadata": {},
   "outputs": [],
   "source": [
    "# Set to desired file and read it\n",
    "cosmetics_csv = Path(\"..\",\"datasets\", \"cscpopendata.csv\")\n",
    "cosmetics_df = pd.read_csv(cosmetics_csv)"
   ]
  },
  {
   "cell_type": "code",
   "execution_count": 49,
   "id": "0bfe16f8",
   "metadata": {},
   "outputs": [
    {
     "data": {
      "text/html": [
       "<div>\n",
       "<style scoped>\n",
       "    .dataframe tbody tr th:only-of-type {\n",
       "        vertical-align: middle;\n",
       "    }\n",
       "\n",
       "    .dataframe tbody tr th {\n",
       "        vertical-align: top;\n",
       "    }\n",
       "\n",
       "    .dataframe thead th {\n",
       "        text-align: right;\n",
       "    }\n",
       "</style>\n",
       "<table border=\"1\" class=\"dataframe\">\n",
       "  <thead>\n",
       "    <tr style=\"text-align: right;\">\n",
       "      <th></th>\n",
       "      <th>BrandName</th>\n",
       "      <th>ChemicalName</th>\n",
       "    </tr>\n",
       "  </thead>\n",
       "  <tbody>\n",
       "    <tr>\n",
       "      <th>0</th>\n",
       "      <td>AVON</td>\n",
       "      <td>Titanium dioxide</td>\n",
       "    </tr>\n",
       "    <tr>\n",
       "      <th>1</th>\n",
       "      <td>Glover's</td>\n",
       "      <td>Distillates (coal tar)</td>\n",
       "    </tr>\n",
       "    <tr>\n",
       "      <th>2</th>\n",
       "      <td>Glover's</td>\n",
       "      <td>Estragole</td>\n",
       "    </tr>\n",
       "    <tr>\n",
       "      <th>3</th>\n",
       "      <td>AVON</td>\n",
       "      <td>Titanium dioxide</td>\n",
       "    </tr>\n",
       "    <tr>\n",
       "      <th>4</th>\n",
       "      <td>AVON</td>\n",
       "      <td>Titanium dioxide</td>\n",
       "    </tr>\n",
       "    <tr>\n",
       "      <th>...</th>\n",
       "      <td>...</td>\n",
       "      <td>...</td>\n",
       "    </tr>\n",
       "    <tr>\n",
       "      <th>114630</th>\n",
       "      <td>YANBAL</td>\n",
       "      <td>Titanium dioxide</td>\n",
       "    </tr>\n",
       "    <tr>\n",
       "      <th>114631</th>\n",
       "      <td>YANBAL</td>\n",
       "      <td>Titanium dioxide</td>\n",
       "    </tr>\n",
       "    <tr>\n",
       "      <th>114632</th>\n",
       "      <td>YANBAL</td>\n",
       "      <td>Titanium dioxide</td>\n",
       "    </tr>\n",
       "    <tr>\n",
       "      <th>114633</th>\n",
       "      <td>YANBAL</td>\n",
       "      <td>Titanium dioxide</td>\n",
       "    </tr>\n",
       "    <tr>\n",
       "      <th>114634</th>\n",
       "      <td>Old Spice</td>\n",
       "      <td>Titanium dioxide</td>\n",
       "    </tr>\n",
       "  </tbody>\n",
       "</table>\n",
       "<p>114635 rows × 2 columns</p>\n",
       "</div>"
      ],
      "text/plain": [
       "        BrandName            ChemicalName\n",
       "0            AVON        Titanium dioxide\n",
       "1        Glover's  Distillates (coal tar)\n",
       "2        Glover's               Estragole\n",
       "3            AVON        Titanium dioxide\n",
       "4            AVON        Titanium dioxide\n",
       "...           ...                     ...\n",
       "114630     YANBAL        Titanium dioxide\n",
       "114631     YANBAL        Titanium dioxide\n",
       "114632     YANBAL        Titanium dioxide\n",
       "114633     YANBAL        Titanium dioxide\n",
       "114634  Old Spice        Titanium dioxide\n",
       "\n",
       "[114635 rows x 2 columns]"
      ]
     },
     "execution_count": 49,
     "metadata": {},
     "output_type": "execute_result"
    }
   ],
   "source": [
    "# Show Brand and Ingredients in list\n",
    "toxicchemical = cosmetics_df[['BrandName', 'ChemicalName']]\n",
    "toxicchemical"
   ]
  },
  {
   "cell_type": "code",
   "execution_count": 50,
   "id": "08b020d5",
   "metadata": {},
   "outputs": [
    {
     "data": {
      "text/html": [
       "<div>\n",
       "<style scoped>\n",
       "    .dataframe tbody tr th:only-of-type {\n",
       "        vertical-align: middle;\n",
       "    }\n",
       "\n",
       "    .dataframe tbody tr th {\n",
       "        vertical-align: top;\n",
       "    }\n",
       "\n",
       "    .dataframe thead th {\n",
       "        text-align: right;\n",
       "    }\n",
       "</style>\n",
       "<table border=\"1\" class=\"dataframe\">\n",
       "  <thead>\n",
       "    <tr style=\"text-align: right;\">\n",
       "      <th></th>\n",
       "      <th>BrandName</th>\n",
       "      <th>ChemicalName</th>\n",
       "    </tr>\n",
       "  </thead>\n",
       "  <tbody>\n",
       "    <tr>\n",
       "      <th>0</th>\n",
       "      <td>AVON</td>\n",
       "      <td>Titanium dioxide</td>\n",
       "    </tr>\n",
       "    <tr>\n",
       "      <th>1</th>\n",
       "      <td>Glover's</td>\n",
       "      <td>Distillates (coal tar)</td>\n",
       "    </tr>\n",
       "    <tr>\n",
       "      <th>2</th>\n",
       "      <td>Glover's</td>\n",
       "      <td>Estragole</td>\n",
       "    </tr>\n",
       "    <tr>\n",
       "      <th>3</th>\n",
       "      <td>AVON</td>\n",
       "      <td>Titanium dioxide</td>\n",
       "    </tr>\n",
       "    <tr>\n",
       "      <th>4</th>\n",
       "      <td>AVON</td>\n",
       "      <td>Titanium dioxide</td>\n",
       "    </tr>\n",
       "    <tr>\n",
       "      <th>...</th>\n",
       "      <td>...</td>\n",
       "      <td>...</td>\n",
       "    </tr>\n",
       "    <tr>\n",
       "      <th>114630</th>\n",
       "      <td>YANBAL</td>\n",
       "      <td>Titanium dioxide</td>\n",
       "    </tr>\n",
       "    <tr>\n",
       "      <th>114631</th>\n",
       "      <td>YANBAL</td>\n",
       "      <td>Titanium dioxide</td>\n",
       "    </tr>\n",
       "    <tr>\n",
       "      <th>114632</th>\n",
       "      <td>YANBAL</td>\n",
       "      <td>Titanium dioxide</td>\n",
       "    </tr>\n",
       "    <tr>\n",
       "      <th>114633</th>\n",
       "      <td>YANBAL</td>\n",
       "      <td>Titanium dioxide</td>\n",
       "    </tr>\n",
       "    <tr>\n",
       "      <th>114634</th>\n",
       "      <td>Old Spice</td>\n",
       "      <td>Titanium dioxide</td>\n",
       "    </tr>\n",
       "  </tbody>\n",
       "</table>\n",
       "<p>114419 rows × 2 columns</p>\n",
       "</div>"
      ],
      "text/plain": [
       "        BrandName            ChemicalName\n",
       "0            AVON        Titanium dioxide\n",
       "1        Glover's  Distillates (coal tar)\n",
       "2        Glover's               Estragole\n",
       "3            AVON        Titanium dioxide\n",
       "4            AVON        Titanium dioxide\n",
       "...           ...                     ...\n",
       "114630     YANBAL        Titanium dioxide\n",
       "114631     YANBAL        Titanium dioxide\n",
       "114632     YANBAL        Titanium dioxide\n",
       "114633     YANBAL        Titanium dioxide\n",
       "114634  Old Spice        Titanium dioxide\n",
       "\n",
       "[114419 rows x 2 columns]"
      ]
     },
     "execution_count": 50,
     "metadata": {},
     "output_type": "execute_result"
    }
   ],
   "source": [
    "# Drop any values that are empty\n",
    "toxicclean = toxicchemical.dropna(axis = 0)\n",
    "toxicclean"
   ]
  },
  {
   "cell_type": "code",
   "execution_count": 51,
   "id": "7a374916",
   "metadata": {},
   "outputs": [
    {
     "data": {
      "text/plain": [
       "Titanium dioxide                                                                                       93363\n",
       "Silica, crystalline (airborne particles of respirable size)                                             2817\n",
       "Retinol/retinyl esters, when in daily dosages in excess of 10,000 IU, or 3,000 retinol equivalents.     2152\n",
       "Mica                                                                                                    1918\n",
       "Butylated hydroxyanisole                                                                                1888\n",
       "Name: ChemicalName, dtype: int64"
      ]
     },
     "execution_count": 51,
     "metadata": {},
     "output_type": "execute_result"
    }
   ],
   "source": [
    "# List of all Chemical Names \n",
    "toxic_names = toxicclean['ChemicalName'].value_counts()\n",
    "toxic_names.head()"
   ]
  },
  {
   "cell_type": "code",
   "execution_count": 52,
   "id": "9b99a0f9",
   "metadata": {},
   "outputs": [
    {
     "data": {
      "text/html": [
       "<div>\n",
       "<style scoped>\n",
       "    .dataframe tbody tr th:only-of-type {\n",
       "        vertical-align: middle;\n",
       "    }\n",
       "\n",
       "    .dataframe tbody tr th {\n",
       "        vertical-align: top;\n",
       "    }\n",
       "\n",
       "    .dataframe thead th {\n",
       "        text-align: right;\n",
       "    }\n",
       "</style>\n",
       "<table border=\"1\" class=\"dataframe\">\n",
       "  <thead>\n",
       "    <tr style=\"text-align: right;\">\n",
       "      <th></th>\n",
       "      <th>index</th>\n",
       "      <th>counts</th>\n",
       "    </tr>\n",
       "  </thead>\n",
       "  <tbody>\n",
       "    <tr>\n",
       "      <th>0</th>\n",
       "      <td>Titanium dioxide</td>\n",
       "      <td>93363</td>\n",
       "    </tr>\n",
       "    <tr>\n",
       "      <th>1</th>\n",
       "      <td>Silica, crystalline (airborne particles of res...</td>\n",
       "      <td>2817</td>\n",
       "    </tr>\n",
       "    <tr>\n",
       "      <th>2</th>\n",
       "      <td>Retinol/retinyl esters, when in daily dosages ...</td>\n",
       "      <td>2152</td>\n",
       "    </tr>\n",
       "    <tr>\n",
       "      <th>3</th>\n",
       "      <td>Mica</td>\n",
       "      <td>1918</td>\n",
       "    </tr>\n",
       "    <tr>\n",
       "      <th>4</th>\n",
       "      <td>Butylated hydroxyanisole</td>\n",
       "      <td>1888</td>\n",
       "    </tr>\n",
       "  </tbody>\n",
       "</table>\n",
       "</div>"
      ],
      "text/plain": [
       "                                               index  counts\n",
       "0                                   Titanium dioxide   93363\n",
       "1  Silica, crystalline (airborne particles of res...    2817\n",
       "2  Retinol/retinyl esters, when in daily dosages ...    2152\n",
       "3                                               Mica    1918\n",
       "4                           Butylated hydroxyanisole    1888"
      ]
     },
     "execution_count": 52,
     "metadata": {},
     "output_type": "execute_result"
    }
   ],
   "source": [
    "chemicalscount = toxic_names.nlargest(n=5)\n",
    "chemicalcount = chemicalscount.reset_index(name='counts')\n",
    "chemicalcount"
   ]
  },
  {
   "cell_type": "code",
   "execution_count": 53,
   "id": "7289e5b5",
   "metadata": {},
   "outputs": [
    {
     "data": {
      "image/png": "[encoded data removed]",
      "text/plain": [
       "<Figure size 640x480 with 1 Axes>"
      ]
     },
     "metadata": {},
     "output_type": "display_data"
    }
   ],
   "source": [
    "plt.bar(chemicalcount['index'], chemicalcount['counts'],\n",
    "        width = 0.4, color='#FF99CC')\n",
    "plt.xticks(ha='right', fontsize=10, rotation='vertical') \n",
    "plt.xlabel(\"Brand Name\")\n",
    "plt.ylabel(\"Count of Products\")\n",
    "plt.title(\"Top 5 Chemicals\")\n",
    "plt.savefig(\"../top5chemicals.png\")\n",
    "plt.show()"
   ]
  },
  {
   "cell_type": "code",
   "execution_count": null,
   "id": "25de534a",
   "metadata": {},
   "outputs": [],
   "source": []
  },
  {
   "cell_type": "code",
   "execution_count": null,
   "id": "6a6f1226",
   "metadata": {},
   "outputs": [],
   "source": []
  }
 ],
 "metadata": {
  "kernelspec": {
   "display_name": "Python 3 (ipykernel)",
   "language": "python",
   "name": "python3"
  },
  "language_info": {
   "codemirror_mode": {
    "name": "ipython",
    "version": 3
   },
   "file_extension": ".py",
   "mimetype": "text/x-python",
   "name": "python",
   "nbconvert_exporter": "python",
   "pygments_lexer": "ipython3",
   "version": "3.10.11"
  }
 },
 "nbformat": 4,
 "nbformat_minor": 5
}
